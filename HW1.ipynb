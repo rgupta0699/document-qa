{
  "nbformat": 4,
  "nbformat_minor": 0,
  "metadata": {
    "colab": {
      "provenance": [],
      "authorship_tag": "ABX9TyPjO2fzzjnfq4pt4kF7ZeIr",
      "include_colab_link": true
    },
    "kernelspec": {
      "name": "python3",
      "display_name": "Python 3"
    },
    "language_info": {
      "name": "python"
    }
  },
  "cells": [
    {
      "cell_type": "markdown",
      "metadata": {
        "id": "view-in-github",
        "colab_type": "text"
      },
      "source": [
        "<a href=\"https://colab.research.google.com/github/rgupta0699/document-qa/blob/main/HW1.ipynb\" target=\"_parent\"><img src=\"https://colab.research.google.com/assets/colab-badge.svg\" alt=\"Open In Colab\"/></a>"
      ]
    },
    {
      "cell_type": "code",
      "execution_count": null,
      "metadata": {
        "id": "7j3HoY8c8ZMk"
      },
      "outputs": [],
      "source": [
        "import streamlit as st\n",
        "from openai import OpenAI\n",
        "import PyPDF2\n",
        "\n",
        "# Show title and description.\n",
        "st.title(\"📄 Document question answering\")\n",
        "st.write(\n",
        "    \"Upload a document below and ask a question about it – GPT will answer! \"\n",
        "    \"To use this app, you need to provide an OpenAI API key, which you can get [here](https://platform.openai.com/account/api-keys). \"\n",
        ")\n",
        "\n",
        "# Ask user for their OpenAI API key via `st.text_input`.\n",
        "# Alternatively, you can store the API key in `./.streamlit/secrets.toml` and access it\n",
        "# via `st.secrets`, see https://docs.streamlit.io/develop/concepts/connections/secrets-management\n",
        "openai_api_key = st.text_input(\"OpenAI API Key\", type=\"password\")\n",
        "if not openai_api_key:\n",
        "    st.info(\"Please add your OpenAI API key to continue.\", icon=\"🗝️\")\n",
        "else:\n",
        "\n",
        "    # Create an OpenAI client.\n",
        "    client = OpenAI(api_key=openai_api_key)\n",
        "\n",
        "    # Let the user upload a file via `st.file_uploader`.\n",
        "    uploaded_file = st.file_uploader(\n",
        "        \"Upload a document (.txt or .md)\", type=(\"txt\", \"md\")\n",
        "    )\n",
        "\n",
        "    # Ask the user for a question via `st.text_area`.\n",
        "    question = st.text_area(\n",
        "        \"Now ask a question about the document!\",\n",
        "        placeholder=\"Can you give me a short summary?\",\n",
        "        disabled=not uploaded_file,\n",
        "    )\n",
        "\n",
        "    if uploaded_file and question:\n",
        "\n",
        "        # Process the uploaded file and question.\n",
        "        document = uploaded_file.read().decode()\n",
        "        messages = [\n",
        "            {\n",
        "                \"role\": \"user\",\n",
        "                \"content\": f\"Here's a document: {document} \\n\\n---\\n\\n {question}\",\n",
        "            }\n",
        "        ]\n",
        "\n",
        "        # Generate an answer using the OpenAI API.\n",
        "        stream = client.chat.completions.create(\n",
        "            model=\"gpt-4o mini\",\n",
        "            messages=messages,\n",
        "            stream=True,\n",
        "        )\n",
        "\n",
        "        # Stream the response to the app using `st.write_stream`.\n",
        "        st.write_stream(stream)"
      ]
    }
  ]
}